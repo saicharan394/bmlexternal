{
  "cells": [
    {
      "cell_type": "markdown",
      "metadata": {
        "id": "view-in-github",
        "colab_type": "text"
      },
      "source": [
        "<a href=\"https://colab.research.google.com/github/saicharan394/bmlexternal/blob/main/Ridge_Regression.ipynb\" target=\"_parent\"><img src=\"https://colab.research.google.com/assets/colab-badge.svg\" alt=\"Open In Colab\"/></a>"
      ]
    },
    {
      "cell_type": "code",
      "execution_count": null,
      "metadata": {
        "id": "nNAS_GPnYGMQ"
      },
      "outputs": [],
      "source": [
        "import numpy as np\n",
        "import pandas as pd\n",
        "import matplotlib.pyplot as plt"
      ]
    },
    {
      "cell_type": "code",
      "execution_count": null,
      "metadata": {
        "id": "2YlyZhUZYGMT"
      },
      "outputs": [],
      "source": [
        "from sklearn.datasets import load_diabetes\n",
        "\n",
        "data=load_diabetes()"
      ]
    },
    {
      "cell_type": "code",
      "execution_count": null,
      "metadata": {
        "colab": {
          "base_uri": "https://localhost:8080/"
        },
        "id": "Rsidyly0YGMU",
        "outputId": "dcb4acea-3289-47e6-83f7-ab58b9345185"
      },
      "outputs": [
        {
          "output_type": "stream",
          "name": "stdout",
          "text": [
            ".. _diabetes_dataset:\n",
            "\n",
            "Diabetes dataset\n",
            "----------------\n",
            "\n",
            "Ten baseline variables, age, sex, body mass index, average blood\n",
            "pressure, and six blood serum measurements were obtained for each of n =\n",
            "442 diabetes patients, as well as the response of interest, a\n",
            "quantitative measure of disease progression one year after baseline.\n",
            "\n",
            "**Data Set Characteristics:**\n",
            "\n",
            "  :Number of Instances: 442\n",
            "\n",
            "  :Number of Attributes: First 10 columns are numeric predictive values\n",
            "\n",
            "  :Target: Column 11 is a quantitative measure of disease progression one year after baseline\n",
            "\n",
            "  :Attribute Information:\n",
            "      - age     age in years\n",
            "      - sex\n",
            "      - bmi     body mass index\n",
            "      - bp      average blood pressure\n",
            "      - s1      tc, total serum cholesterol\n",
            "      - s2      ldl, low-density lipoproteins\n",
            "      - s3      hdl, high-density lipoproteins\n",
            "      - s4      tch, total cholesterol / HDL\n",
            "      - s5      ltg, possibly log of serum triglycerides level\n",
            "      - s6      glu, blood sugar level\n",
            "\n",
            "Note: Each of these 10 feature variables have been mean centered and scaled by the standard deviation times the square root of `n_samples` (i.e. the sum of squares of each column totals 1).\n",
            "\n",
            "Source URL:\n",
            "https://www4.stat.ncsu.edu/~boos/var.select/diabetes.html\n",
            "\n",
            "For more information see:\n",
            "Bradley Efron, Trevor Hastie, Iain Johnstone and Robert Tibshirani (2004) \"Least Angle Regression,\" Annals of Statistics (with discussion), 407-499.\n",
            "(https://web.stanford.edu/~hastie/Papers/LARS/LeastAngle_2002.pdf)\n",
            "\n"
          ]
        }
      ],
      "source": [
        "print(data.DESCR)"
      ]
    },
    {
      "cell_type": "code",
      "execution_count": null,
      "metadata": {
        "id": "7zLUfp6wYGMV",
        "colab": {
          "base_uri": "https://localhost:8080/"
        },
        "outputId": "7e836377-a29c-493d-f054-c631eaae763a"
      },
      "outputs": [
        {
          "output_type": "stream",
          "name": "stdout",
          "text": [
            "[[ 0.03807591  0.05068012  0.06169621 ... -0.00259226  0.01990749\n",
            "  -0.01764613]\n",
            " [-0.00188202 -0.04464164 -0.05147406 ... -0.03949338 -0.06833155\n",
            "  -0.09220405]\n",
            " [ 0.08529891  0.05068012  0.04445121 ... -0.00259226  0.00286131\n",
            "  -0.02593034]\n",
            " ...\n",
            " [ 0.04170844  0.05068012 -0.01590626 ... -0.01107952 -0.04688253\n",
            "   0.01549073]\n",
            " [-0.04547248 -0.04464164  0.03906215 ...  0.02655962  0.04452873\n",
            "  -0.02593034]\n",
            " [-0.04547248 -0.04464164 -0.0730303  ... -0.03949338 -0.00422151\n",
            "   0.00306441]]\n"
          ]
        }
      ],
      "source": [
        "X=data.data\n",
        "y=data.target\n",
        "print(X)"
      ]
    },
    {
      "cell_type": "code",
      "source": [
        "print(y)"
      ],
      "metadata": {
        "colab": {
          "base_uri": "https://localhost:8080/"
        },
        "id": "qre4jfGNQit6",
        "outputId": "76756159-9faa-4fa6-df04-3eab98f41609"
      },
      "execution_count": null,
      "outputs": [
        {
          "output_type": "stream",
          "name": "stdout",
          "text": [
            "[151.  75. 141. 206. 135.  97. 138.  63. 110. 310. 101.  69. 179. 185.\n",
            " 118. 171. 166. 144.  97. 168.  68.  49.  68. 245. 184. 202. 137.  85.\n",
            " 131. 283. 129.  59. 341.  87.  65. 102. 265. 276. 252.  90. 100.  55.\n",
            "  61.  92. 259.  53. 190. 142.  75. 142. 155. 225.  59. 104. 182. 128.\n",
            "  52.  37. 170. 170.  61. 144.  52. 128.  71. 163. 150.  97. 160. 178.\n",
            "  48. 270. 202. 111.  85.  42. 170. 200. 252. 113. 143.  51.  52. 210.\n",
            "  65. 141.  55. 134.  42. 111.  98. 164.  48.  96.  90. 162. 150. 279.\n",
            "  92.  83. 128. 102. 302. 198.  95.  53. 134. 144. 232.  81. 104.  59.\n",
            " 246. 297. 258. 229. 275. 281. 179. 200. 200. 173. 180.  84. 121. 161.\n",
            "  99. 109. 115. 268. 274. 158. 107.  83. 103. 272.  85. 280. 336. 281.\n",
            " 118. 317. 235.  60. 174. 259. 178. 128.  96. 126. 288.  88. 292.  71.\n",
            " 197. 186.  25.  84.  96. 195.  53. 217. 172. 131. 214.  59.  70. 220.\n",
            " 268. 152.  47.  74. 295. 101. 151. 127. 237. 225.  81. 151. 107.  64.\n",
            " 138. 185. 265. 101. 137. 143. 141.  79. 292. 178.  91. 116.  86. 122.\n",
            "  72. 129. 142.  90. 158.  39. 196. 222. 277.  99. 196. 202. 155.  77.\n",
            " 191.  70.  73.  49.  65. 263. 248. 296. 214. 185.  78.  93. 252. 150.\n",
            "  77. 208.  77. 108. 160.  53. 220. 154. 259.  90. 246. 124.  67.  72.\n",
            " 257. 262. 275. 177.  71.  47. 187. 125.  78.  51. 258. 215. 303. 243.\n",
            "  91. 150. 310. 153. 346.  63.  89.  50.  39. 103. 308. 116. 145.  74.\n",
            "  45. 115. 264.  87. 202. 127. 182. 241.  66.  94. 283.  64. 102. 200.\n",
            " 265.  94. 230. 181. 156. 233.  60. 219.  80.  68. 332. 248.  84. 200.\n",
            "  55.  85.  89.  31. 129.  83. 275.  65. 198. 236. 253. 124.  44. 172.\n",
            " 114. 142. 109. 180. 144. 163. 147.  97. 220. 190. 109. 191. 122. 230.\n",
            " 242. 248. 249. 192. 131. 237.  78. 135. 244. 199. 270. 164.  72.  96.\n",
            " 306.  91. 214.  95. 216. 263. 178. 113. 200. 139. 139.  88. 148.  88.\n",
            " 243.  71.  77. 109. 272.  60.  54. 221.  90. 311. 281. 182. 321.  58.\n",
            " 262. 206. 233. 242. 123. 167.  63. 197.  71. 168. 140. 217. 121. 235.\n",
            " 245.  40.  52. 104. 132.  88.  69. 219.  72. 201. 110.  51. 277.  63.\n",
            " 118.  69. 273. 258.  43. 198. 242. 232. 175.  93. 168. 275. 293. 281.\n",
            "  72. 140. 189. 181. 209. 136. 261. 113. 131. 174. 257.  55.  84.  42.\n",
            " 146. 212. 233.  91. 111. 152. 120.  67. 310.  94. 183.  66. 173.  72.\n",
            "  49.  64.  48. 178. 104. 132. 220.  57.]\n"
          ]
        }
      ]
    },
    {
      "cell_type": "code",
      "execution_count": null,
      "metadata": {
        "id": "Uv0QWhJxYGMV"
      },
      "outputs": [],
      "source": [
        "from sklearn.model_selection import train_test_split\n",
        "X_train,X_test,y_train,y_test=train_test_split(X,y,test_size=0.2,random_state=45)"
      ]
    },
    {
      "cell_type": "code",
      "execution_count": null,
      "metadata": {
        "id": "k5NuZ22gYGMW"
      },
      "outputs": [],
      "source": [
        "from sklearn.linear_model import LinearRegression\n",
        "L=LinearRegression()"
      ]
    },
    {
      "cell_type": "code",
      "execution_count": null,
      "metadata": {
        "colab": {
          "base_uri": "https://localhost:8080/",
          "height": 74
        },
        "id": "SSdJXo1VYGMW",
        "outputId": "9b1f7889-c3bb-46fa-cf0b-47385ff23a91"
      },
      "outputs": [
        {
          "output_type": "execute_result",
          "data": {
            "text/plain": [
              "LinearRegression()"
            ],
            "text/html": [
              "<style>#sk-container-id-1 {color: black;background-color: white;}#sk-container-id-1 pre{padding: 0;}#sk-container-id-1 div.sk-toggleable {background-color: white;}#sk-container-id-1 label.sk-toggleable__label {cursor: pointer;display: block;width: 100%;margin-bottom: 0;padding: 0.3em;box-sizing: border-box;text-align: center;}#sk-container-id-1 label.sk-toggleable__label-arrow:before {content: \"▸\";float: left;margin-right: 0.25em;color: #696969;}#sk-container-id-1 label.sk-toggleable__label-arrow:hover:before {color: black;}#sk-container-id-1 div.sk-estimator:hover label.sk-toggleable__label-arrow:before {color: black;}#sk-container-id-1 div.sk-toggleable__content {max-height: 0;max-width: 0;overflow: hidden;text-align: left;background-color: #f0f8ff;}#sk-container-id-1 div.sk-toggleable__content pre {margin: 0.2em;color: black;border-radius: 0.25em;background-color: #f0f8ff;}#sk-container-id-1 input.sk-toggleable__control:checked~div.sk-toggleable__content {max-height: 200px;max-width: 100%;overflow: auto;}#sk-container-id-1 input.sk-toggleable__control:checked~label.sk-toggleable__label-arrow:before {content: \"▾\";}#sk-container-id-1 div.sk-estimator input.sk-toggleable__control:checked~label.sk-toggleable__label {background-color: #d4ebff;}#sk-container-id-1 div.sk-label input.sk-toggleable__control:checked~label.sk-toggleable__label {background-color: #d4ebff;}#sk-container-id-1 input.sk-hidden--visually {border: 0;clip: rect(1px 1px 1px 1px);clip: rect(1px, 1px, 1px, 1px);height: 1px;margin: -1px;overflow: hidden;padding: 0;position: absolute;width: 1px;}#sk-container-id-1 div.sk-estimator {font-family: monospace;background-color: #f0f8ff;border: 1px dotted black;border-radius: 0.25em;box-sizing: border-box;margin-bottom: 0.5em;}#sk-container-id-1 div.sk-estimator:hover {background-color: #d4ebff;}#sk-container-id-1 div.sk-parallel-item::after {content: \"\";width: 100%;border-bottom: 1px solid gray;flex-grow: 1;}#sk-container-id-1 div.sk-label:hover label.sk-toggleable__label {background-color: #d4ebff;}#sk-container-id-1 div.sk-serial::before {content: \"\";position: absolute;border-left: 1px solid gray;box-sizing: border-box;top: 0;bottom: 0;left: 50%;z-index: 0;}#sk-container-id-1 div.sk-serial {display: flex;flex-direction: column;align-items: center;background-color: white;padding-right: 0.2em;padding-left: 0.2em;position: relative;}#sk-container-id-1 div.sk-item {position: relative;z-index: 1;}#sk-container-id-1 div.sk-parallel {display: flex;align-items: stretch;justify-content: center;background-color: white;position: relative;}#sk-container-id-1 div.sk-item::before, #sk-container-id-1 div.sk-parallel-item::before {content: \"\";position: absolute;border-left: 1px solid gray;box-sizing: border-box;top: 0;bottom: 0;left: 50%;z-index: -1;}#sk-container-id-1 div.sk-parallel-item {display: flex;flex-direction: column;z-index: 1;position: relative;background-color: white;}#sk-container-id-1 div.sk-parallel-item:first-child::after {align-self: flex-end;width: 50%;}#sk-container-id-1 div.sk-parallel-item:last-child::after {align-self: flex-start;width: 50%;}#sk-container-id-1 div.sk-parallel-item:only-child::after {width: 0;}#sk-container-id-1 div.sk-dashed-wrapped {border: 1px dashed gray;margin: 0 0.4em 0.5em 0.4em;box-sizing: border-box;padding-bottom: 0.4em;background-color: white;}#sk-container-id-1 div.sk-label label {font-family: monospace;font-weight: bold;display: inline-block;line-height: 1.2em;}#sk-container-id-1 div.sk-label-container {text-align: center;}#sk-container-id-1 div.sk-container {/* jupyter's `normalize.less` sets `[hidden] { display: none; }` but bootstrap.min.css set `[hidden] { display: none !important; }` so we also need the `!important` here to be able to override the default hidden behavior on the sphinx rendered scikit-learn.org. See: https://github.com/scikit-learn/scikit-learn/issues/21755 */display: inline-block !important;position: relative;}#sk-container-id-1 div.sk-text-repr-fallback {display: none;}</style><div id=\"sk-container-id-1\" class=\"sk-top-container\"><div class=\"sk-text-repr-fallback\"><pre>LinearRegression()</pre><b>In a Jupyter environment, please rerun this cell to show the HTML representation or trust the notebook. <br />On GitHub, the HTML representation is unable to render, please try loading this page with nbviewer.org.</b></div><div class=\"sk-container\" hidden><div class=\"sk-item\"><div class=\"sk-estimator sk-toggleable\"><input class=\"sk-toggleable__control sk-hidden--visually\" id=\"sk-estimator-id-1\" type=\"checkbox\" checked><label for=\"sk-estimator-id-1\" class=\"sk-toggleable__label sk-toggleable__label-arrow\">LinearRegression</label><div class=\"sk-toggleable__content\"><pre>LinearRegression()</pre></div></div></div></div></div>"
            ]
          },
          "metadata": {},
          "execution_count": 8
        }
      ],
      "source": [
        "L.fit(X_train,y_train)"
      ]
    },
    {
      "cell_type": "code",
      "execution_count": null,
      "metadata": {
        "colab": {
          "base_uri": "https://localhost:8080/"
        },
        "id": "mS9NOmOsYGMX",
        "outputId": "bca43638-9f1d-466f-b177-4abc652eeae7"
      },
      "outputs": [
        {
          "output_type": "stream",
          "name": "stdout",
          "text": [
            "[  23.45465406 -247.42747406  492.1087518   329.35876431 -970.79723039\n",
            "  573.54295519  182.42162368  255.92168168  794.21609282   89.32249214]\n",
            "152.13623331746496\n"
          ]
        }
      ],
      "source": [
        "print(L.coef_)\n",
        "print(L.intercept_)"
      ]
    },
    {
      "cell_type": "code",
      "execution_count": null,
      "metadata": {
        "id": "pu7AWwEXYGMX",
        "colab": {
          "base_uri": "https://localhost:8080/"
        },
        "outputId": "75ef0376-ed3d-4326-adf9-cb69362a9e12"
      },
      "outputs": [
        {
          "output_type": "stream",
          "name": "stdout",
          "text": [
            "[226.51848598 157.46329293  89.86172648 207.92043638 175.27464325\n",
            " 146.48196423 131.11782081  97.37923306 102.94499199 181.69238112\n",
            " 237.97531281 134.74726724 189.44205531  59.92873145 179.98730177\n",
            " 117.78561801 120.30969646 126.66229732 165.19425279 147.78162151\n",
            " 145.4387221  124.41329425  51.96058948 227.75415791 218.10133602\n",
            " 129.82865712 160.13538356 201.17200936 184.84143661  68.90970369\n",
            " 237.00685674  58.17158783 154.39979192 119.15941043 234.0319742\n",
            " 172.80143208 139.94775146 169.99263492 214.59145267 220.47784209\n",
            " 128.98250674 186.20992149 162.87053192 179.77640803 107.76869146\n",
            " 249.52929292 140.92355113  32.74846723 177.96181001 145.76575416\n",
            " 291.96774118 125.71074727 107.27012754 156.10001536 115.93096259\n",
            " 160.35263722 229.48001183 173.38808746 159.87971544 123.05044568\n",
            "  88.54923021 122.87202843 169.12811086 101.97744379 282.75789855\n",
            " 148.0039501  164.73180431 157.31740851 232.69907212 121.1235174\n",
            "  95.65610456 186.24330439  87.52788315 160.95859575 242.37311196\n",
            " 149.13711394 164.93216563 209.27756025 112.08466218 130.02661468\n",
            "  98.4091736   43.04408077 104.01949589 227.2972262  144.04054488\n",
            " 111.75228003 154.06523163 174.11302766  77.8239029 ]\n"
          ]
        }
      ],
      "source": [
        "y_pred=L.predict(X_test)\n",
        "print(y_pred)"
      ]
    },
    {
      "cell_type": "code",
      "execution_count": null,
      "metadata": {
        "colab": {
          "base_uri": "https://localhost:8080/"
        },
        "id": "smKgHrggYGMX",
        "outputId": "ec5cc892-c787-4acc-8bfc-c6b17cf675d1"
      },
      "outputs": [
        {
          "output_type": "stream",
          "name": "stdout",
          "text": [
            "R2 score 0.5188113124539249\n",
            "RMSE 48.72713760953253\n"
          ]
        }
      ],
      "source": [
        "from sklearn.metrics import r2_score,mean_squared_error\n",
        "\n",
        "print(\"R2 score\",r2_score(y_test,y_pred))\n",
        "print(\"RMSE\",np.sqrt(mean_squared_error(y_test,y_pred)))"
      ]
    },
    {
      "cell_type": "code",
      "execution_count": null,
      "metadata": {
        "id": "3qdyukhoYGMY"
      },
      "outputs": [],
      "source": [
        "from sklearn.linear_model import Ridge\n",
        "R=Ridge(alpha=0.02)"
      ]
    },
    {
      "cell_type": "code",
      "execution_count": null,
      "metadata": {
        "colab": {
          "base_uri": "https://localhost:8080/",
          "height": 74
        },
        "id": "IjFRNr--YGMY",
        "outputId": "f730344f-6362-440c-9d0f-a7de93018492"
      },
      "outputs": [
        {
          "output_type": "execute_result",
          "data": {
            "text/plain": [
              "Ridge(alpha=0.02)"
            ],
            "text/html": [
              "<style>#sk-container-id-2 {color: black;background-color: white;}#sk-container-id-2 pre{padding: 0;}#sk-container-id-2 div.sk-toggleable {background-color: white;}#sk-container-id-2 label.sk-toggleable__label {cursor: pointer;display: block;width: 100%;margin-bottom: 0;padding: 0.3em;box-sizing: border-box;text-align: center;}#sk-container-id-2 label.sk-toggleable__label-arrow:before {content: \"▸\";float: left;margin-right: 0.25em;color: #696969;}#sk-container-id-2 label.sk-toggleable__label-arrow:hover:before {color: black;}#sk-container-id-2 div.sk-estimator:hover label.sk-toggleable__label-arrow:before {color: black;}#sk-container-id-2 div.sk-toggleable__content {max-height: 0;max-width: 0;overflow: hidden;text-align: left;background-color: #f0f8ff;}#sk-container-id-2 div.sk-toggleable__content pre {margin: 0.2em;color: black;border-radius: 0.25em;background-color: #f0f8ff;}#sk-container-id-2 input.sk-toggleable__control:checked~div.sk-toggleable__content {max-height: 200px;max-width: 100%;overflow: auto;}#sk-container-id-2 input.sk-toggleable__control:checked~label.sk-toggleable__label-arrow:before {content: \"▾\";}#sk-container-id-2 div.sk-estimator input.sk-toggleable__control:checked~label.sk-toggleable__label {background-color: #d4ebff;}#sk-container-id-2 div.sk-label input.sk-toggleable__control:checked~label.sk-toggleable__label {background-color: #d4ebff;}#sk-container-id-2 input.sk-hidden--visually {border: 0;clip: rect(1px 1px 1px 1px);clip: rect(1px, 1px, 1px, 1px);height: 1px;margin: -1px;overflow: hidden;padding: 0;position: absolute;width: 1px;}#sk-container-id-2 div.sk-estimator {font-family: monospace;background-color: #f0f8ff;border: 1px dotted black;border-radius: 0.25em;box-sizing: border-box;margin-bottom: 0.5em;}#sk-container-id-2 div.sk-estimator:hover {background-color: #d4ebff;}#sk-container-id-2 div.sk-parallel-item::after {content: \"\";width: 100%;border-bottom: 1px solid gray;flex-grow: 1;}#sk-container-id-2 div.sk-label:hover label.sk-toggleable__label {background-color: #d4ebff;}#sk-container-id-2 div.sk-serial::before {content: \"\";position: absolute;border-left: 1px solid gray;box-sizing: border-box;top: 0;bottom: 0;left: 50%;z-index: 0;}#sk-container-id-2 div.sk-serial {display: flex;flex-direction: column;align-items: center;background-color: white;padding-right: 0.2em;padding-left: 0.2em;position: relative;}#sk-container-id-2 div.sk-item {position: relative;z-index: 1;}#sk-container-id-2 div.sk-parallel {display: flex;align-items: stretch;justify-content: center;background-color: white;position: relative;}#sk-container-id-2 div.sk-item::before, #sk-container-id-2 div.sk-parallel-item::before {content: \"\";position: absolute;border-left: 1px solid gray;box-sizing: border-box;top: 0;bottom: 0;left: 50%;z-index: -1;}#sk-container-id-2 div.sk-parallel-item {display: flex;flex-direction: column;z-index: 1;position: relative;background-color: white;}#sk-container-id-2 div.sk-parallel-item:first-child::after {align-self: flex-end;width: 50%;}#sk-container-id-2 div.sk-parallel-item:last-child::after {align-self: flex-start;width: 50%;}#sk-container-id-2 div.sk-parallel-item:only-child::after {width: 0;}#sk-container-id-2 div.sk-dashed-wrapped {border: 1px dashed gray;margin: 0 0.4em 0.5em 0.4em;box-sizing: border-box;padding-bottom: 0.4em;background-color: white;}#sk-container-id-2 div.sk-label label {font-family: monospace;font-weight: bold;display: inline-block;line-height: 1.2em;}#sk-container-id-2 div.sk-label-container {text-align: center;}#sk-container-id-2 div.sk-container {/* jupyter's `normalize.less` sets `[hidden] { display: none; }` but bootstrap.min.css set `[hidden] { display: none !important; }` so we also need the `!important` here to be able to override the default hidden behavior on the sphinx rendered scikit-learn.org. See: https://github.com/scikit-learn/scikit-learn/issues/21755 */display: inline-block !important;position: relative;}#sk-container-id-2 div.sk-text-repr-fallback {display: none;}</style><div id=\"sk-container-id-2\" class=\"sk-top-container\"><div class=\"sk-text-repr-fallback\"><pre>Ridge(alpha=0.02)</pre><b>In a Jupyter environment, please rerun this cell to show the HTML representation or trust the notebook. <br />On GitHub, the HTML representation is unable to render, please try loading this page with nbviewer.org.</b></div><div class=\"sk-container\" hidden><div class=\"sk-item\"><div class=\"sk-estimator sk-toggleable\"><input class=\"sk-toggleable__control sk-hidden--visually\" id=\"sk-estimator-id-2\" type=\"checkbox\" checked><label for=\"sk-estimator-id-2\" class=\"sk-toggleable__label sk-toggleable__label-arrow\">Ridge</label><div class=\"sk-toggleable__content\"><pre>Ridge(alpha=0.02)</pre></div></div></div></div></div>"
            ]
          },
          "metadata": {},
          "execution_count": 13
        }
      ],
      "source": [
        "R.fit(X_train,y_train)"
      ]
    },
    {
      "cell_type": "code",
      "execution_count": null,
      "metadata": {
        "colab": {
          "base_uri": "https://localhost:8080/"
        },
        "id": "cNnqTeWdYGMZ",
        "outputId": "bb86ced5-3866-4ef1-c1b5-1c2a3c1c04ef"
      },
      "outputs": [
        {
          "output_type": "stream",
          "name": "stdout",
          "text": [
            "[  27.25732836 -235.51706907  494.40258232  324.01736404 -280.1201262\n",
            "   29.80359447 -113.05049201  176.66294885  524.15910636   97.04783811]\n",
            "152.071370961561\n"
          ]
        }
      ],
      "source": [
        "print(R.coef_)\n",
        "print(R.intercept_)"
      ]
    },
    {
      "cell_type": "code",
      "execution_count": null,
      "metadata": {
        "id": "o97GWwZKYGMZ",
        "colab": {
          "base_uri": "https://localhost:8080/"
        },
        "outputId": "3c42fb04-9ba9-4a82-c2e5-8209607ea34e"
      },
      "outputs": [
        {
          "output_type": "stream",
          "name": "stdout",
          "text": [
            "[224.44853574 153.20880465  89.83433565 201.99189311 173.69349316\n",
            " 142.84954808 130.58842858  94.73476416 101.80578714 180.22774939\n",
            " 239.3822631  130.29827322 188.63041017  61.37530448 176.04320907\n",
            " 116.70157409 122.65611028 126.74646077 161.82672575 146.75991735\n",
            " 139.33171247 123.39371301  63.78006739 227.6783583  235.84231397\n",
            " 126.49578373 167.14134239 201.57142987 178.13579067  73.53748176\n",
            " 233.15436588  63.40600106 158.95610429 120.12097009 229.42210279\n",
            " 177.54082626 137.43924667 169.26007746 212.57612451 218.73758862\n",
            " 128.52147132 184.97211219 159.43702217 175.04069909 113.41899223\n",
            " 249.44051624 136.37951833  40.40058371 174.13970469 143.87818532\n",
            " 289.05768804 127.39019071 108.56539873 152.38648765 114.54822217\n",
            " 158.12301783 223.49897766 176.66962029 158.8903294  119.1767468\n",
            "  90.3115387  124.25426435 169.9242614   98.9251057  299.04352399\n",
            " 150.72657572 161.39626551 152.53463145 231.53842888 118.71118618\n",
            "  99.19359191 182.85654848  92.46039537 157.44348224 242.326457\n",
            " 148.85101617 161.80040743 205.69374911 113.93726366 127.56865845\n",
            "  93.68312683  49.82554549 100.77682942 231.38084301 143.14242792\n",
            " 110.95465924 152.2148203  170.20652201  81.6033654 ]\n"
          ]
        }
      ],
      "source": [
        "y_pred1=R.predict(X_test)\n",
        "print(y_pred1)"
      ]
    },
    {
      "cell_type": "code",
      "execution_count": null,
      "metadata": {
        "colab": {
          "base_uri": "https://localhost:8080/"
        },
        "id": "8JV5J0LCYGMZ",
        "outputId": "5dbb849a-74f7-43e2-ff71-5680f8690eee"
      },
      "outputs": [
        {
          "output_type": "stream",
          "name": "stdout",
          "text": [
            "R2 score 0.5233166594759509\n",
            "RMSE 48.498486190297754\n"
          ]
        }
      ],
      "source": [
        "print(\"R2 score\",r2_score(y_test,y_pred1))\n",
        "print(\"RMSE\",np.sqrt(mean_squared_error(y_test,y_pred1)))"
      ]
    },
    {
      "cell_type": "code",
      "execution_count": null,
      "metadata": {
        "colab": {
          "base_uri": "https://localhost:8080/",
          "height": 430
        },
        "id": "HDsWz5h4YGMa",
        "outputId": "d3700979-79d2-4d21-9d7c-0aaf3618c769"
      },
      "outputs": [
        {
          "output_type": "display_data",
          "data": {
            "text/plain": [
              "<Figure size 640x480 with 1 Axes>"
            ],
            "image/png": "[encoded data removed]"
          },
          "metadata": {}
        }
      ],
      "source": [
        "m = 100\n",
        "x1 = 5 * np.random.rand(m, 1) - 2\n",
        "x2 = 0.7 * x1 ** 2 - 2 * x1 + 3 + np.random.randn(m, 1)\n",
        "\n",
        "plt.scatter(x1, x2)\n",
        "plt.show()"
      ]
    },
    {
      "cell_type": "code",
      "source": [
        "print(x1)"
      ],
      "metadata": {
        "colab": {
          "base_uri": "https://localhost:8080/"
        },
        "id": "ouCr0LaVY7Ju",
        "outputId": "668be4bd-da8d-4a7c-a7c9-eac5f74360b8"
      },
      "execution_count": null,
      "outputs": [
        {
          "output_type": "stream",
          "name": "stdout",
          "text": [
            "[[ 1.15430306]\n",
            " [ 1.48216672]\n",
            " [-1.98649852]\n",
            " [ 0.89171263]\n",
            " [-0.39704642]\n",
            " [-1.44892798]\n",
            " [ 1.768304  ]\n",
            " [ 1.10908387]\n",
            " [ 2.88049596]\n",
            " [ 1.50292108]\n",
            " [ 1.27630282]\n",
            " [ 2.86763595]\n",
            " [ 1.94157531]\n",
            " [ 0.71667694]\n",
            " [ 2.02276392]\n",
            " [ 0.09748068]\n",
            " [ 0.3568836 ]\n",
            " [-1.3453382 ]\n",
            " [-0.09818848]\n",
            " [ 2.78919186]\n",
            " [ 1.31975358]\n",
            " [ 2.11532842]\n",
            " [ 1.79238485]\n",
            " [ 1.23010425]\n",
            " [ 2.30920503]\n",
            " [-0.37689865]\n",
            " [ 0.29585291]\n",
            " [-1.28392008]\n",
            " [ 2.78222797]\n",
            " [-1.085015  ]\n",
            " [ 2.73912654]\n",
            " [ 1.42815847]\n",
            " [ 2.3685998 ]\n",
            " [ 2.06938582]\n",
            " [-0.19853865]\n",
            " [ 1.52397733]\n",
            " [-0.90310944]\n",
            " [-1.54829692]\n",
            " [ 1.98461681]\n",
            " [-0.36409531]\n",
            " [-0.67442736]\n",
            " [-0.79261383]\n",
            " [ 0.46175968]\n",
            " [-1.76706552]\n",
            " [-1.2475041 ]\n",
            " [-0.17147424]\n",
            " [-1.94006692]\n",
            " [ 2.69215284]\n",
            " [ 1.88074524]\n",
            " [-0.62850575]\n",
            " [-0.41835366]\n",
            " [ 2.08713078]\n",
            " [ 0.99442626]\n",
            " [-0.68152984]\n",
            " [-0.47738923]\n",
            " [ 1.01492901]\n",
            " [ 1.96814094]\n",
            " [-1.27761759]\n",
            " [ 1.47871495]\n",
            " [-1.23206107]\n",
            " [ 0.067042  ]\n",
            " [ 1.32591878]\n",
            " [-0.3779954 ]\n",
            " [ 0.77622579]\n",
            " [ 1.90308451]\n",
            " [ 2.34849274]\n",
            " [ 0.13698954]\n",
            " [-0.55615982]\n",
            " [-1.16720253]\n",
            " [ 0.47189591]\n",
            " [ 2.34532196]\n",
            " [ 2.6638035 ]\n",
            " [-1.49287273]\n",
            " [ 1.74420971]\n",
            " [ 1.42763908]\n",
            " [-1.42839025]\n",
            " [ 0.38323157]\n",
            " [ 2.65504801]\n",
            " [-1.04040964]\n",
            " [-0.40438761]\n",
            " [-1.13135374]\n",
            " [ 2.20178414]\n",
            " [-1.55922652]\n",
            " [ 1.48553453]\n",
            " [-0.02289939]\n",
            " [-0.78679561]\n",
            " [ 2.00258072]\n",
            " [-1.99845271]\n",
            " [-1.93866558]\n",
            " [-1.2069123 ]\n",
            " [-0.89270416]\n",
            " [ 0.95562167]\n",
            " [ 1.61369429]\n",
            " [ 2.21064072]\n",
            " [ 1.58194716]\n",
            " [-0.50070777]\n",
            " [ 2.9000061 ]\n",
            " [ 0.60102846]\n",
            " [ 0.10055747]\n",
            " [ 1.14401869]]\n"
          ]
        }
      ]
    },
    {
      "cell_type": "code",
      "source": [
        "print(x2)"
      ],
      "metadata": {
        "colab": {
          "base_uri": "https://localhost:8080/"
        },
        "id": "R8sCYwx3ZEQQ",
        "outputId": "1dc0aeeb-fab6-4e71-b504-6368fca0bf54"
      },
      "execution_count": null,
      "outputs": [
        {
          "output_type": "stream",
          "name": "stdout",
          "text": [
            "[[ 2.53791752]\n",
            " [ 2.5734846 ]\n",
            " [ 8.9783362 ]\n",
            " [ 2.26630058]\n",
            " [ 3.24572609]\n",
            " [ 5.96003979]\n",
            " [ 0.38305223]\n",
            " [ 1.50358088]\n",
            " [ 4.07842763]\n",
            " [ 1.86351284]\n",
            " [ 1.42279795]\n",
            " [ 2.47001896]\n",
            " [ 0.33075732]\n",
            " [ 2.44723724]\n",
            " [ 4.11382716]\n",
            " [ 3.18361572]\n",
            " [ 1.30374145]\n",
            " [ 6.13119547]\n",
            " [ 3.24563928]\n",
            " [ 4.17293053]\n",
            " [ 1.13537875]\n",
            " [ 2.89403425]\n",
            " [ 1.6209546 ]\n",
            " [ 2.03541111]\n",
            " [ 3.20193371]\n",
            " [ 4.48907112]\n",
            " [ 3.11878772]\n",
            " [ 7.11779473]\n",
            " [ 4.52748455]\n",
            " [ 6.26085464]\n",
            " [ 2.55923993]\n",
            " [ 1.28440076]\n",
            " [ 1.14174902]\n",
            " [ 2.13427152]\n",
            " [ 2.42824747]\n",
            " [ 2.30657056]\n",
            " [ 6.1255073 ]\n",
            " [ 8.99489865]\n",
            " [ 0.19199761]\n",
            " [ 4.81226889]\n",
            " [ 4.15522339]\n",
            " [ 5.08345565]\n",
            " [ 1.64273442]\n",
            " [ 9.04094089]\n",
            " [ 6.20669268]\n",
            " [ 3.27749038]\n",
            " [ 7.35135671]\n",
            " [ 1.67579258]\n",
            " [-0.08029833]\n",
            " [ 4.01031841]\n",
            " [ 4.96810742]\n",
            " [-0.26718922]\n",
            " [ 2.14183328]\n",
            " [ 4.81876945]\n",
            " [ 5.27537347]\n",
            " [ 0.97743064]\n",
            " [ 2.09938656]\n",
            " [ 8.93214616]\n",
            " [ 0.83085318]\n",
            " [ 4.53290446]\n",
            " [ 2.52476411]\n",
            " [ 2.74491664]\n",
            " [ 4.48503507]\n",
            " [ 1.07043338]\n",
            " [ 0.72198553]\n",
            " [ 0.83904328]\n",
            " [ 2.33415336]\n",
            " [ 5.02247382]\n",
            " [ 5.25666923]\n",
            " [ 3.47542145]\n",
            " [ 3.55662884]\n",
            " [ 3.46038099]\n",
            " [ 6.55797022]\n",
            " [ 1.5618896 ]\n",
            " [ 1.62523732]\n",
            " [ 7.8626814 ]\n",
            " [ 1.8355519 ]\n",
            " [ 2.43940717]\n",
            " [ 5.85100724]\n",
            " [ 2.20414208]\n",
            " [ 6.47899649]\n",
            " [ 3.0323718 ]\n",
            " [ 8.74000246]\n",
            " [ 1.47540769]\n",
            " [ 1.56198946]\n",
            " [ 4.98166232]\n",
            " [ 3.3782519 ]\n",
            " [10.12154569]\n",
            " [10.28117089]\n",
            " [ 6.97033841]\n",
            " [ 6.59323216]\n",
            " [ 3.19171108]\n",
            " [ 1.67412694]\n",
            " [-1.06975727]\n",
            " [ 1.04948092]\n",
            " [ 3.16076266]\n",
            " [ 1.53775492]\n",
            " [ 0.77410993]\n",
            " [ 2.99819999]\n",
            " [ 1.15963151]]\n"
          ]
        }
      ]
    },
    {
      "cell_type": "code",
      "execution_count": null,
      "metadata": {
        "colab": {
          "base_uri": "https://localhost:8080/",
          "height": 502
        },
        "id": "E67Cu27HYGMa",
        "outputId": "0073986e-c601-48df-ca55-74deeb91250d"
      },
      "outputs": [
        {
          "output_type": "display_data",
          "data": {
            "text/plain": [
              "<Figure size 1000x600 with 1 Axes>"
            ],
            "image/png": "[encoded data removed]"
          },
          "metadata": {}
        }
      ],
      "source": [
        "from sklearn.pipeline import Pipeline\n",
        "from sklearn.preprocessing import PolynomialFeatures\n",
        "\n",
        "def get_preds_ridge(x1, x2, alpha):\n",
        "    model = Pipeline([\n",
        "        ('poly_feats', PolynomialFeatures(degree=16)),\n",
        "        ('ridge', Ridge(alpha=alpha))\n",
        "    ])\n",
        "    model.fit(x1, x2)\n",
        "    return model.predict(x1)\n",
        "\n",
        "alphas = [0, 20, 200]\n",
        "cs = ['r', 'g', 'b']\n",
        "\n",
        "plt.figure(figsize=(10, 6))\n",
        "plt.plot(x1, x2, 'b+', label='Datapoints')\n",
        "\n",
        "for alpha, c in zip(alphas, cs):\n",
        "    preds = get_preds_ridge(x1, x2, alpha)\n",
        "    # Plot\n",
        "    plt.plot(sorted(x1[:, 0]), preds[np.argsort(x1[:, 0])], c, label='Alpha: {}'.format(alpha))\n",
        "\n",
        "plt.legend()\n",
        "plt.show()"
      ]
    },
    {
      "cell_type": "code",
      "execution_count": null,
      "metadata": {
        "id": "8A4NWOjzYGMa"
      },
      "outputs": [],
      "source": []
    }
  ],
  "metadata": {
    "kernelspec": {
      "display_name": "Python 3",
      "language": "python",
      "name": "python3"
    },
    "language_info": {
      "codemirror_mode": {
        "name": "ipython",
        "version": 3
      },
      "file_extension": ".py",
      "mimetype": "text/x-python",
      "name": "python",
      "nbconvert_exporter": "python",
      "pygments_lexer": "ipython3",
      "version": "3.8.8"
    },
    "colab": {
      "provenance": [],
      "include_colab_link": true
    }
  },
  "nbformat": 4,
  "nbformat_minor": 0
}